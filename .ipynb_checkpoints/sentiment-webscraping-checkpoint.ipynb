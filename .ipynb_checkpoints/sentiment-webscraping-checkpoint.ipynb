{
 "cells": [
  {
   "cell_type": "code",
   "execution_count": 16,
   "metadata": {},
   "outputs": [
    {
     "name": "stdout",
     "output_type": "stream",
     "text": [
      "<a class=\"stream-item__title\" href=\"https://www.forbes.com/sites/briandomitrovic/2019/07/15/facebooks-libra-could-use-a-little-colonialism/\">Facebook's Libra Could Use A Little Colonialism</a>\n",
      "<a class=\"stream-item__title\" href=\"https://www.forbes.com/sites/caitlinlong/2019/07/15/facebooks-cryptocurrency-libra-senate-banking-testimony/\">Facebook's Cryptocurrency, Libra: Senate Banking Testimony</a>\n",
      "<a class=\"stream-item__title\" href=\"https://www.forbes.com/sites/davidblack/2019/07/16/facebooks-laughable-move-to-repair-the-fatal-flaws-of-blockchain/\">Facebook's Laughable Move To Repair The Fatal Flaws Of Blockchain</a>\n",
      "<a class=\"stream-item__title\" href=\"https://www.forbes.com/sites/emmawoollacott/2019/07/16/following-lawsuit-facebook-cracks-down-on-scam-ads/\">Following Lawsuit, Facebook Cracks Down On Scam Ads</a>\n",
      "<a class=\"stream-item__title\" href=\"https://www.forbes.com/sites/charlessingletary/2019/07/15/oculus-founder-facebook-will-never-breakthrough-with-vr-gaming/\">Oculus Founder: Facebook Will Never Breakthrough With VR Gaming</a>\n",
      "<a class=\"stream-item__title\" href=\"https://www.forbes.com/sites/michaeldelcastillo/2019/07/16/as-facebook-prepares-for-congress-its-crypto-chief-asks-forgiveness/\">Facebook Crypto Chief Hopes Blockchain Will Reboot Trust In The Social Network</a>\n",
      "<a class=\"stream-item__title\" href=\"https://www.forbes.com/sites/kenkam/2019/07/12/get-ready-to-buy-google-apple-facebook-and-amazon/\">Get Ready To Buy Google, Apple, Facebook And Amazon</a>\n",
      "<a class=\"stream-item__title\" href=\"https://www.forbes.com/sites/randybrown/2019/07/11/facebooks-libra-will-fizzle-as-banks-hit-back/\">Facebook's Libra Will Fizzle As Banks Hit Back</a>\n",
      "<a class=\"stream-item__title\" href=\"https://www.forbes.com/sites/jackkelly/2019/07/16/facebooks-libra-comes-under-fire-in-senate-hearing-heres-why-congress-is-terrified/\">Facebook's Libra Comes Under Fire In Senate Hearing -- Here's Why Congress Is Terrified</a>\n",
      "<a class=\"stream-item__title\" href=\"https://www.forbes.com/sites/korihale/2019/07/15/facebooks-lackluster-5-billion-ftc-fine-adds-10-billion-in-market-value/\">Facebook's Lackluster $5 Billion FTC Fine Adds $10 Billion In Market Value</a>\n",
      "<a class=\"stream-item__title\" href=\"https://www.forbes.com/sites/zakdoffman/2019/07/14/facebook-is-embedding-hidden-codes-to-track-all-your-uploaded-photos-report/\">Facebook Embeds 'Hidden Codes' To Track Who Sees And Shares Your Photos</a>\n",
      "<a class=\"stream-item__title\" href=\"https://www.forbes.com/sites/mnunez/2019/07/12/facebook-shares-soar-following-report-of-record-setting-ftc-fine/\">Facebook Shares Soar Following Report Of Record-setting FTC Fine</a>\n",
      "<a class=\"stream-item__title\" href=\"https://www.forbes.com/sites/chrisstrub/2019/07/12/pmc/\">Facebook Peer-To-Peer Fundraising Jumps 2,300%+ For USA's Top Athletic Fundraiser</a>\n",
      "<a class=\"stream-item__title\" href=\"https://www.forbes.com/sites/nataliakarayaneva/2019/07/03/will-investors-at-facebook-libra-bail-out/\">Will Investors At Facebook Libra Bail Out?</a>\n",
      "<a class=\"stream-item__title\" href=\"https://www.forbes.com/sites/samshead/2019/07/11/facebooks-new-poker-ai-can-beat-the-worlds-top-players/\">Facebook's New 'Superhuman' Poker AI Can Beat The World's Top Players</a>\n",
      "<a class=\"stream-item__title\" href=\"https://www.forbes.com/sites/forbesinsights/2019/07/13/watch-out-facebook------------------------------------a-59-fine-per-user-cost-for-that-data-abuse-is-the-tip-of--the-iceberg/\">Watch out Facebook.                                   \n",
      "A $59 Fine Per-User Cost For That Data Abuse Is The Tip Of  The Iceberg.</a>\n",
      "<a class=\"stream-item__title\" href=\"https://www.forbes.com/sites/billybambrough/2019/07/11/blow-to-bitcoin-as-fed-chair-jerome-powell-issues-stark-facebook-warning/\">Blow To Bitcoin As Fed Chair Jerome Powell Issues Stark Facebook Warning</a>\n",
      "<a class=\"stream-item__title\" href=\"https://www.forbes.com/sites/janicegassam/2019/07/11/facebooks-2019-diversity-report-reveals-theres-still-a-long-way-to-go/\">Facebook's 2019 Diversity Report Reveals There's Still A Long Way To Go</a>\n",
      "<a class=\"stream-item__title\" href=\"https://www.forbes.com/sites/paultalbot/2019/07/02/changes-ahead-for-facebook-retargeting-campaigns/\">Changes Ahead For Facebook Retargeting Campaigns?</a>\n",
      "<a class=\"stream-item__title\" href=\"https://www.forbes.com/sites/darrynpollock/2019/07/11/is-facebook-forming-a-crypto-mafia-as-libra-foundation-members-boost-each-others-businesses/\">Is Facebook Forming A Crypto Mafia as Libra Foundation Members Boost Each Other's Businesses?</a>\n"
     ]
    }
   ],
   "source": [
    "from urllib.request import urlopen\n",
    "from bs4 import BeautifulSoup\n",
    "import pandas as pd\n",
    "\n",
    "search = 'facebook'\n",
    "\n",
    "source = urlopen('https://www.forbes.com/search/?q=' + search)\n",
    "soup = BeautifulSoup(source,'lxml')\n",
    "\n",
    "lst = []\n",
    "for i in soup.findAll('a', {'class': \"stream-item__title\"}):\n",
    "    title = i.text\n",
    "    print(i)\n",
    "    \n",
    "    link = i.find['href']\n",
    "\n",
    "    title = title.replace('\\t','')\n",
    "    title = title.replace('\\n','')\n",
    "    title = title.strip()\n",
    "\n",
    "    lst.append({'title':title, 'link':link})\n",
    "    \n",
    "df = pd.DataFrame.from_dict(lst)\n"
   ]
  },
  {
   "cell_type": "code",
   "execution_count": 13,
   "metadata": {},
   "outputs": [
    {
     "data": {
      "text/html": [
       "<div>\n",
       "<style scoped>\n",
       "    .dataframe tbody tr th:only-of-type {\n",
       "        vertical-align: middle;\n",
       "    }\n",
       "\n",
       "    .dataframe tbody tr th {\n",
       "        vertical-align: top;\n",
       "    }\n",
       "\n",
       "    .dataframe thead th {\n",
       "        text-align: right;\n",
       "    }\n",
       "</style>\n",
       "<table border=\"1\" class=\"dataframe\">\n",
       "  <thead>\n",
       "    <tr style=\"text-align: right;\">\n",
       "      <th></th>\n",
       "    </tr>\n",
       "  </thead>\n",
       "  <tbody>\n",
       "  </tbody>\n",
       "</table>\n",
       "</div>"
      ],
      "text/plain": [
       "Empty DataFrame\n",
       "Columns: []\n",
       "Index: []"
      ]
     },
     "execution_count": 13,
     "metadata": {},
     "output_type": "execute_result"
    }
   ],
   "source": [
    "df.head()"
   ]
  },
  {
   "cell_type": "code",
   "execution_count": null,
   "metadata": {},
   "outputs": [],
   "source": []
  }
 ],
 "metadata": {
  "kernelspec": {
   "display_name": "Python 3",
   "language": "python",
   "name": "python3"
  },
  "language_info": {
   "codemirror_mode": {
    "name": "ipython",
    "version": 3
   },
   "file_extension": ".py",
   "mimetype": "text/x-python",
   "name": "python",
   "nbconvert_exporter": "python",
   "pygments_lexer": "ipython3",
   "version": "3.6.8"
  }
 },
 "nbformat": 4,
 "nbformat_minor": 2
}
